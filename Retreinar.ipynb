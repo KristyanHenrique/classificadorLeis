{
 "cells": [
  {
   "cell_type": "code",
   "execution_count": 1,
   "id": "979f8106",
   "metadata": {},
   "outputs": [],
   "source": [
    "import pandas as pd\n",
    "import os\n",
    "from lxml import etree\n",
    "from bs4 import BeautifulSoup"
   ]
  },
  {
   "cell_type": "code",
   "execution_count": 2,
   "id": "c6f92d49",
   "metadata": {},
   "outputs": [],
   "source": [
    "excel = pd.read_excel(\"treinamento/classificadosManualmente/1ª Raspagem JUSRACIAL março a julho de 2023.xlsx\")"
   ]
  },
  {
   "cell_type": "code",
   "execution_count": 26,
   "id": "443b64b5",
   "metadata": {},
   "outputs": [],
   "source": [
    "excel = excel[\"Ementa\"].values.tolist()"
   ]
  },
  {
   "cell_type": "code",
   "execution_count": null,
   "id": "e7a6c9e1",
   "metadata": {},
   "outputs": [
    {
     "name": "stderr",
     "output_type": "stream",
     "text": [
      "C:\\Users\\krist\\AppData\\Local\\Temp\\ipykernel_17904\\748783624.py:15: MarkupResemblesLocatorWarning: The input looks more like a filename than markup. You may want to open this file and pass the filehandle into Beautiful Soup.\n",
      "  ementa = BeautifulSoup(root.xpath('//xml//body//Identifica')[0].text, \"html.parser\").get_text()\n"
     ]
    }
   ],
   "source": [
    "pasta = 'DOU/'\n",
    "pastas = os.listdir(pasta)\n",
    "verd = []\n",
    "for pasta in pastas:\n",
    "    pasta = \"DOU/\"+pasta\n",
    "    arquivos = os.listdir(pasta)\n",
    "    for arquivo in arquivos:\n",
    "        # Verifica se é um arquivo e se é um arquivo txt\n",
    "        linha=[]\n",
    "        if os.path.isfile(os.path.join(pasta, arquivo)):\n",
    "            if (os.path.join(pasta, arquivo)[-3:] == \"xml\"):\n",
    "                tree = etree.parse(os.path.join(pasta, arquivo))\n",
    "                root = tree.getroot()\n",
    "                try:\n",
    "                    ementa = BeautifulSoup(root.xpath('//xml//body//Identifica')[0].text, \"html.parser\").get_text()\n",
    "                except:\n",
    "                    ementa = \" \"\n",
    "                if ementa in excel:\n",
    "                    verd.append(arquivo)"
   ]
  },
  {
   "cell_type": "code",
   "execution_count": null,
   "id": "60e773f7",
   "metadata": {},
   "outputs": [],
   "source": [
    "verd"
   ]
  }
 ],
 "metadata": {
  "kernelspec": {
   "display_name": "Python 3 (ipykernel)",
   "language": "python",
   "name": "python3"
  },
  "language_info": {
   "codemirror_mode": {
    "name": "ipython",
    "version": 3
   },
   "file_extension": ".py",
   "mimetype": "text/x-python",
   "name": "python",
   "nbconvert_exporter": "python",
   "pygments_lexer": "ipython3",
   "version": "3.10.10"
  }
 },
 "nbformat": 4,
 "nbformat_minor": 5
}
