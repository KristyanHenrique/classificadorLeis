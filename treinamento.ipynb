{
 "cells": [
  {
   "cell_type": "code",
   "execution_count": 1,
   "id": "bbe37c5d",
   "metadata": {},
   "outputs": [],
   "source": [
    "import nltk\n",
    "from nltk.tokenize import word_tokenize\n",
    "import re"
   ]
  },
  {
   "cell_type": "code",
   "execution_count": 2,
   "id": "11af4ae4",
   "metadata": {},
   "outputs": [],
   "source": [
    "dicionario = [\"preparação\", \"algoritmo\", \"bag_of_words\", \"texto\", \"python\"]"
   ]
  },
  {
   "cell_type": "code",
   "execution_count": 3,
   "id": "c8c394af",
   "metadata": {},
   "outputs": [],
   "source": [
    "texto = \"Preparação de texto para um algoritmo Bag of Words em Python envolve várias etapas. A preparação do texto é essencial para o sucesso do algoritmo.\""
   ]
  },
  {
   "cell_type": "code",
   "execution_count": 10,
   "id": "1ae6343a",
   "metadata": {},
   "outputs": [],
   "source": [
    "texto = re.sub(r'bag of words', 'bag_of_words', texto.lower())\n",
    "palavras = word_tokenize(texto)\n",
    "vetor = [0] * len(dicionario)"
   ]
  },
  {
   "cell_type": "code",
   "execution_count": 11,
   "id": "df0160c9",
   "metadata": {},
   "outputs": [],
   "source": [
    "for indice, palavra in enumerate(dicionario):\n",
    "    vetor[indice] = palavras.count(palavra)"
   ]
  },
  {
   "cell_type": "code",
   "execution_count": 12,
   "id": "962bf8cf",
   "metadata": {},
   "outputs": [
    {
     "data": {
      "text/plain": [
       "[2, 2, 1, 2, 1]"
      ]
     },
     "execution_count": 12,
     "metadata": {},
     "output_type": "execute_result"
    }
   ],
   "source": [
    "vetor"
   ]
  },
  {
   "cell_type": "code",
   "execution_count": null,
   "id": "8d816fbf",
   "metadata": {},
   "outputs": [],
   "source": []
  }
 ],
 "metadata": {
  "kernelspec": {
   "display_name": "Python 3 (ipykernel)",
   "language": "python",
   "name": "python3"
  },
  "language_info": {
   "codemirror_mode": {
    "name": "ipython",
    "version": 3
   },
   "file_extension": ".py",
   "mimetype": "text/x-python",
   "name": "python",
   "nbconvert_exporter": "python",
   "pygments_lexer": "ipython3",
   "version": "3.10.10"
  }
 },
 "nbformat": 4,
 "nbformat_minor": 5
}
