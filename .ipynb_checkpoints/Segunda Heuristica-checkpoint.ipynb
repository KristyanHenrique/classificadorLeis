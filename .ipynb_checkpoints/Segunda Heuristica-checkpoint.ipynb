{
 "cells": [
  {
   "cell_type": "code",
   "execution_count": 8,
   "id": "e34bf090",
   "metadata": {
    "scrolled": true
   },
   "outputs": [],
   "source": [
    "from sklearn.feature_extraction.text import CountVectorizer\n",
    "from sklearn.linear_model import LogisticRegression\n",
    "from sklearn.model_selection import train_test_split\n",
    "from sklearn.metrics import accuracy_score\n",
    "from lxml import etree\n",
    "from bs4 import BeautifulSoup\n",
    "import re\n",
    "import os\n",
    "import numpy as np\n",
    "import pandas as pd"
   ]
  },
  {
   "cell_type": "code",
   "execution_count": 10,
   "id": "f21618f2",
   "metadata": {},
   "outputs": [],
   "source": [
    "termos = [\"Igualdade Racial\",\"Racismo\",\"Discriminação Racial\",\"Ação Afirmativa\",\"Desigualdade Racial\",\"Equidade Racial\",\"Inclusão Racial\",\"Diversidade Racial\",\"Políticas de Igualdade Racial\",\"Justiça Racial\",\"Reparação Racial\",\"Assédio Racial\",\"Preconceito Racial\",\"Educação Antirracista\",\"Cotas Raciais\",\"Promoção da Igualdade Racial\",\"Combate ao Racismo\",\"Conscientização Racial\",\"Equidade de Oportunidades\",\"Diversidade étnica\",\"Inclusão Social\",\"Direitos Humanos\",\"Tolerância Racial\",\"Respeito à Diversidade\",\"Equilíbrio Racial\",\"Harmonia Racial\",\"Eliminação do Racismo\",\"Dignidade Racial\",\"Participação Racial\",\"Representatividade Racial\",\"Empoderamento Racial\",\"Cidadania Racial\",\"Igualdade de Gênero e Racial\",\"Políticas Públicas Antirracismo\",\"Hate Crimes\",\"Lei Contra a Discriminação Racial\",\"Monitoramento Racial\",\"Estatísticas Raciais\",\"Liberdade Racial\",\"Identidade Racial\",\"Orgulho Racial\",\"Autoafirmação Racial\",\"Integração Racial\",\"Respeito à Cultura Racial\",\"Equidade no Mercado de Trabalho\",\"Combate ao Racismo Estrutural\",\"Educação para a Igualdade Racial\",\"Promoção da História e Cultura Racial\",\"Solidariedade Racial\",\"Justiça Reparadora\",\"Equidade Racial\",\"Empoderamento da Comunidade Negra\",\"Reconhecimento Racial\",\"Cidadania Plena\",\"Acesso à Saúde Racial\",\"Educação Racialmente Sensível\",\"Integração étnica\",\"Desigualdade Econômica Racial\",\"Transparência Racial\",\"Justiça Restaurativa\",\"Revisão da História Racial\",\"Inclusão Racial em Mídia\",\"Tolerância Zero para o Racismo\",\"Equilíbrio de Poder Racial\",\"Garantia de Direitos Raciais\",\"Leis Antidiscriminação\",\"Diversidade em Instituições\",\"Revisão de Esteriótipos Raciais\",\"Acesso à Moradia Racial\",\"Acesso à Justiça Racial\",\"Mapeamento Racial\",\"Linguagem Inclusiva Racial\",\"Participação Comunitária Racial\",\"Fortalecimento de Organizações Raciais\",\"Acessibilidade Racial\",\"Práticas Empresariais Inclusivas\",\"Educação Racial nas Escolas\",\"Promoção de Lideranças Raciais\",\"Policiamento não Discriminatório\",\"Reconhecimento de Patrimônio Cultural Racial\",\"Desenvolvimento Econômico Racial\",\"Campanhas Contra o Racismo\",\"Equidade no Sistema de Justiça\",\"Conscientização sobre Racismo Sistêmico\",\"Diversidade no Setor Público\",\"Garantia de Cidadania Racial\",\"Estratégias de Combate ao Racismo\",\"Promoção de Estudos Raciais\",\"Monitoramento de Práticas Raciais\",\"Inclusão de Povos Indígenas\",\"Garantia de Direitos de Populações Raciais\",\"Equidade na Saúde Mental Racial\",\"Respeito à Religião Racial\",\"Acessibilidade a Recursos Raciais\",\"Apoio à Juventude Racial\",\"Inclusão Racial nas Políticas Culturais\",\"Reconhecimento de Terras Indígenas\",\"Línguas e Culturas Raciais\",\"Estratégias de Comunicação Racial\",\"Juventude Negra\"]"
   ]
  },
  {
   "cell_type": "code",
   "execution_count": 69,
   "id": "e6a5abf3",
   "metadata": {},
   "outputs": [],
   "source": [
    "pasta = 'DOU'\n",
    "arquivos = os.listdir(pasta)\n",
    "verd = []\n",
    "falso = []\n",
    "for arquivo in arquivos:\n",
    "    # Verifica se é um arquivo e se é um arquivo txt\n",
    "    linha=[]\n",
    "    if os.path.isfile(os.path.join(pasta, arquivo)):\n",
    "        if (os.path.join(pasta, arquivo)[-3:] == \"xml\"):\n",
    "            tree = etree.parse(os.path.join(pasta, arquivo))\n",
    "            root = tree.getroot()\n",
    "            conteudo = BeautifulSoup(root.xpath('//xml//body//Texto')[0].text, \"html.parser\").get_text()\n",
    "            for termo in termos:\n",
    "                if termo.lower() in conteudo.lower():\n",
    "                    linha.append(1)\n",
    "                else:\n",
    "                    linha.append(0)\n",
    "            if(avaliar(linha)):\n",
    "                verd.append(arquivo)\n",
    "            else:\n",
    "                falso.append(arquivo)"
   ]
  },
  {
   "cell_type": "code",
   "execution_count": 72,
   "id": "53563670",
   "metadata": {},
   "outputs": [
    {
     "data": {
      "text/plain": [
       "['515_20230301_20377494.xml.xml',\n",
       " '515_20230301_20377892-1.xml.xml',\n",
       " '515_20230301_20377892-2.xml.xml',\n",
       " '515_20230301_20377893-1.xml.xml',\n",
       " '515_20230301_20378798.xml.xml',\n",
       " '515_20230301_20378799.xml.xml',\n",
       " '515_20230302_20380755-3.xml.xml',\n",
       " '515_20230302_20382680.xml.xml',\n",
       " '515_20230302_20382743-2.xml.xml',\n",
       " '515_20230303_20383694.xml.xml',\n",
       " '515_20230303_20387582-1.xml.xml',\n",
       " '515_20230307_20396214.xml.xml',\n",
       " '515_20230308_20399766.xml.xml',\n",
       " '515_20230308_20399923.xml.xml',\n",
       " '515_20230308_20400326.xml.xml',\n",
       " '515_20230308_20400943.xml.xml',\n",
       " '515_20230309_20403850.xml.xml',\n",
       " '515_20230309_20404218.xml.xml',\n",
       " '515_20230309_20405249.xml.xml',\n",
       " '515_20230309_20405250.xml.xml',\n",
       " '515_20230309_20405252.xml.xml',\n",
       " '515_20230310_20405332-56.xml.xml',\n",
       " '515_20230310_20405617-9.xml.xml',\n",
       " '515_20230313_20413144.xml.xml',\n",
       " '515_20230313_20413418-2.xml.xml',\n",
       " '515_20230313_20413561.xml.xml',\n",
       " '515_20230314_20417684.xml.xml',\n",
       " '515_20230314_20417757.xml.xml',\n",
       " '515_20230314_20417761.xml.xml',\n",
       " '515_20230314_20417785.xml.xml',\n",
       " '515_20230314_20417786.xml.xml',\n",
       " '515_20230314_20417787.xml.xml',\n",
       " '515_20230314_20417792.xml.xml',\n",
       " '515_20230316_20425489.xml.xml',\n",
       " '515_20230316_20426705.xml.xml',\n",
       " '515_20230316_20427194.xml.xml',\n",
       " '515_20230317_20430792.xml.xml',\n",
       " '515_20230320_20435563.xml.xml',\n",
       " '515_20230320_20436381-1.xml.xml',\n",
       " '515_20230321_20440448.xml.xml',\n",
       " '515_20230321_20440937.xml.xml',\n",
       " '515_20230322_20441102-16.xml.xml',\n",
       " '515_20230322_20444494.xml.xml',\n",
       " '515_20230322_20445558.xml.xml',\n",
       " '515_20230322_20445559.xml.xml',\n",
       " '515_20230322_20445560.xml.xml',\n",
       " '515_20230322_20445561.xml.xml',\n",
       " '515_20230322_20445622.xml.xml',\n",
       " '515_20230322_20445623.xml.xml',\n",
       " '515_20230323_20447525-3.xml.xml',\n",
       " '515_20230323_20448656-1.xml.xml',\n",
       " '515_20230323_20448837.xml.xml',\n",
       " '515_20230323_20448894-4.xml.xml',\n",
       " '515_20230323_20448897-12.xml.xml',\n",
       " '515_20230323_20449998.xml.xml',\n",
       " '515_20230323_20449999.xml.xml',\n",
       " '515_20230324_20452751.xml.xml',\n",
       " '515_20230324_20453021.xml.xml',\n",
       " '515_20230324_20453316.xml.xml',\n",
       " '515_20230324_20453883.xml.xml',\n",
       " '515_20230324_20454515.xml.xml',\n",
       " '515_20230328_20462403-1.xml.xml',\n",
       " '515_20230328_20462403-2.xml.xml',\n",
       " '515_20230329_20467309.xml.xml',\n",
       " '515_20230330_20469894-3.xml.xml',\n",
       " '515_20230330_20469894-4.xml.xml',\n",
       " '515_20230330_20472523-9.xml.xml',\n",
       " '515_20230331_20471789-1.xml.xml',\n",
       " '515_20230331_20474920.xml.xml',\n",
       " '515_20230331_20477131.xml.xml',\n",
       " '515_20230331_20477408-1.xml.xml',\n",
       " '515_20230331_20478427.xml.xml',\n",
       " '515_20230331_20478558.xml.xml',\n",
       " '600_20230314_20422124-3.xml.xml',\n",
       " '600_20230314_20422126-3.xml.xml',\n",
       " '601_20230330_20478548-2.xml.xml',\n",
       " '601_20230330_20478548-3.xml.xml',\n",
       " '601_20230330_20478548-4.xml.xml',\n",
       " '601_20230330_20478548-5.xml.xml']"
      ]
     },
     "execution_count": 72,
     "metadata": {},
     "output_type": "execute_result"
    }
   ],
   "source": [
    "verd"
   ]
  },
  {
   "cell_type": "code",
   "execution_count": 12,
   "id": "673fab47",
   "metadata": {
    "scrolled": true
   },
   "outputs": [],
   "source": [
    "pasta = 'treinamento/positivo'\n",
    "arquivos = os.listdir(pasta)\n",
    "train = []\n",
    "rotulos = []\n",
    "quadro = []\n",
    "# Itera pelos arquivos e lê o conteúdo de cada um\n",
    "for arquivo in arquivos:\n",
    "    linha = []\n",
    "    # Verifica se é um arquivo e se é um arquivo txt\n",
    "    if os.path.isfile(os.path.join(pasta, arquivo)) :\n",
    "        if (os.path.join(pasta, arquivo)[-3:] == \"txt\"):\n",
    "            with open(os.path.join(pasta, arquivo), 'r',encoding='utf-8') as f:\n",
    "                conteudo = f.read()\n",
    "        elif(os.path.join(pasta, arquivo)[-3:] == \"xml\"):\n",
    "            tree = etree.parse(os.path.join(pasta, arquivo))\n",
    "            root = tree.getroot()\n",
    "            conteudo = BeautifulSoup(root.xpath('//xml//body//Texto')[0].text, \"html.parser\").get_text()\n",
    "        for termo in termos:\n",
    "            if termo.lower() in conteudo.lower():\n",
    "                linha.append(1)\n",
    "            else:\n",
    "                linha.append(0)\n",
    "        linha.append(1)\n",
    "    train.append(linha)"
   ]
  },
  {
   "cell_type": "code",
   "execution_count": 13,
   "id": "c4a832e2",
   "metadata": {},
   "outputs": [],
   "source": [
    "pasta = 'treinamento/negativo'\n",
    "arquivos = os.listdir(pasta)\n",
    "arquivosLidos=0\n",
    "# Itera pelos arquivos e lê o conteúdo de cada um\n",
    "for arquivo in arquivos:\n",
    "    linha = []\n",
    "    # Verifica se é um arquivo e se é um arquivo txt\n",
    "    if os.path.isfile(os.path.join(pasta, arquivo)):\n",
    "        if (os.path.join(pasta, arquivo)[-3:] == \"txt\"):\n",
    "            with open(os.path.join(pasta, arquivo), 'r',encoding='utf-8') as f:\n",
    "                conteudo = f.read()\n",
    "                for termo in termos:\n",
    "                    if termo.lower() in conteudo.lower():\n",
    "                        linha.append(1)\n",
    "                    else:\n",
    "                        linha.append(0)\n",
    "        elif(os.path.join(pasta, arquivo)[-3:] == \"xml\"):\n",
    "            tree = etree.parse(os.path.join(pasta, arquivo))\n",
    "            root = tree.getroot()\n",
    "            conteudo = BeautifulSoup(root.xpath('//xml//body//Texto')[0].text, \"html.parser\").get_text()\n",
    "            for termo in termos:\n",
    "                if termo.lower() in conteudo.lower():\n",
    "                    linha.append(1)\n",
    "                else:\n",
    "                    linha.append(0)\n",
    "        linha.append(0)\n",
    "    train.append(linha)"
   ]
  },
  {
   "cell_type": "code",
   "execution_count": 68,
   "id": "faaad31b",
   "metadata": {},
   "outputs": [],
   "source": [
    "def avaliar(linha):\n",
    "    linha = np.array(linha)\n",
    "    predicao = model.predict(linha.reshape(1, -1))\n",
    "    if predicao[0] == 1:\n",
    "        return True\n",
    "    else:\n",
    "        return False"
   ]
  },
  {
   "cell_type": "code",
   "execution_count": 55,
   "id": "0f89594e",
   "metadata": {},
   "outputs": [
    {
     "data": {
      "text/html": [
       "<style>#sk-container-id-1 {color: black;}#sk-container-id-1 pre{padding: 0;}#sk-container-id-1 div.sk-toggleable {background-color: white;}#sk-container-id-1 label.sk-toggleable__label {cursor: pointer;display: block;width: 100%;margin-bottom: 0;padding: 0.3em;box-sizing: border-box;text-align: center;}#sk-container-id-1 label.sk-toggleable__label-arrow:before {content: \"▸\";float: left;margin-right: 0.25em;color: #696969;}#sk-container-id-1 label.sk-toggleable__label-arrow:hover:before {color: black;}#sk-container-id-1 div.sk-estimator:hover label.sk-toggleable__label-arrow:before {color: black;}#sk-container-id-1 div.sk-toggleable__content {max-height: 0;max-width: 0;overflow: hidden;text-align: left;background-color: #f0f8ff;}#sk-container-id-1 div.sk-toggleable__content pre {margin: 0.2em;color: black;border-radius: 0.25em;background-color: #f0f8ff;}#sk-container-id-1 input.sk-toggleable__control:checked~div.sk-toggleable__content {max-height: 200px;max-width: 100%;overflow: auto;}#sk-container-id-1 input.sk-toggleable__control:checked~label.sk-toggleable__label-arrow:before {content: \"▾\";}#sk-container-id-1 div.sk-estimator input.sk-toggleable__control:checked~label.sk-toggleable__label {background-color: #d4ebff;}#sk-container-id-1 div.sk-label input.sk-toggleable__control:checked~label.sk-toggleable__label {background-color: #d4ebff;}#sk-container-id-1 input.sk-hidden--visually {border: 0;clip: rect(1px 1px 1px 1px);clip: rect(1px, 1px, 1px, 1px);height: 1px;margin: -1px;overflow: hidden;padding: 0;position: absolute;width: 1px;}#sk-container-id-1 div.sk-estimator {font-family: monospace;background-color: #f0f8ff;border: 1px dotted black;border-radius: 0.25em;box-sizing: border-box;margin-bottom: 0.5em;}#sk-container-id-1 div.sk-estimator:hover {background-color: #d4ebff;}#sk-container-id-1 div.sk-parallel-item::after {content: \"\";width: 100%;border-bottom: 1px solid gray;flex-grow: 1;}#sk-container-id-1 div.sk-label:hover label.sk-toggleable__label {background-color: #d4ebff;}#sk-container-id-1 div.sk-serial::before {content: \"\";position: absolute;border-left: 1px solid gray;box-sizing: border-box;top: 0;bottom: 0;left: 50%;z-index: 0;}#sk-container-id-1 div.sk-serial {display: flex;flex-direction: column;align-items: center;background-color: white;padding-right: 0.2em;padding-left: 0.2em;position: relative;}#sk-container-id-1 div.sk-item {position: relative;z-index: 1;}#sk-container-id-1 div.sk-parallel {display: flex;align-items: stretch;justify-content: center;background-color: white;position: relative;}#sk-container-id-1 div.sk-item::before, #sk-container-id-1 div.sk-parallel-item::before {content: \"\";position: absolute;border-left: 1px solid gray;box-sizing: border-box;top: 0;bottom: 0;left: 50%;z-index: -1;}#sk-container-id-1 div.sk-parallel-item {display: flex;flex-direction: column;z-index: 1;position: relative;background-color: white;}#sk-container-id-1 div.sk-parallel-item:first-child::after {align-self: flex-end;width: 50%;}#sk-container-id-1 div.sk-parallel-item:last-child::after {align-self: flex-start;width: 50%;}#sk-container-id-1 div.sk-parallel-item:only-child::after {width: 0;}#sk-container-id-1 div.sk-dashed-wrapped {border: 1px dashed gray;margin: 0 0.4em 0.5em 0.4em;box-sizing: border-box;padding-bottom: 0.4em;background-color: white;}#sk-container-id-1 div.sk-label label {font-family: monospace;font-weight: bold;display: inline-block;line-height: 1.2em;}#sk-container-id-1 div.sk-label-container {text-align: center;}#sk-container-id-1 div.sk-container {/* jupyter's `normalize.less` sets `[hidden] { display: none; }` but bootstrap.min.css set `[hidden] { display: none !important; }` so we also need the `!important` here to be able to override the default hidden behavior on the sphinx rendered scikit-learn.org. See: https://github.com/scikit-learn/scikit-learn/issues/21755 */display: inline-block !important;position: relative;}#sk-container-id-1 div.sk-text-repr-fallback {display: none;}</style><div id=\"sk-container-id-1\" class=\"sk-top-container\"><div class=\"sk-text-repr-fallback\"><pre>LogisticRegression()</pre><b>In a Jupyter environment, please rerun this cell to show the HTML representation or trust the notebook. <br />On GitHub, the HTML representation is unable to render, please try loading this page with nbviewer.org.</b></div><div class=\"sk-container\" hidden><div class=\"sk-item\"><div class=\"sk-estimator sk-toggleable\"><input class=\"sk-toggleable__control sk-hidden--visually\" id=\"sk-estimator-id-1\" type=\"checkbox\" checked><label for=\"sk-estimator-id-1\" class=\"sk-toggleable__label sk-toggleable__label-arrow\">LogisticRegression</label><div class=\"sk-toggleable__content\"><pre>LogisticRegression()</pre></div></div></div></div></div>"
      ],
      "text/plain": [
       "LogisticRegression()"
      ]
     },
     "execution_count": 55,
     "metadata": {},
     "output_type": "execute_result"
    }
   ],
   "source": [
    "# Carregue seus dados de um arquivo CSV (ou outra fonte)\n",
    "data = pd.DataFrame(train)\n",
    "\n",
    "# Divida os dados em recursos (X) e alvo (y)\n",
    "parametros = data.iloc[:, :-1]  # Todas as colunas, exceto a última\n",
    "target = data.iloc[:, -1]   # A última coluna\n",
    "\n",
    "# Inicialize o modelo de regressão logística\n",
    "model = LogisticRegression()\n",
    "\n",
    "# Treine o modelo nos dados de treinamento\n",
    "model.fit(X, target)\n",
    "\n",
    "# Faça previsões nos dados de teste\n",
    "# y_pred = model.predict(X_test)"
   ]
  },
  {
   "cell_type": "code",
   "execution_count": 56,
   "id": "2888f457",
   "metadata": {},
   "outputs": [
    {
     "data": {
      "text/html": [
       "<style>#sk-container-id-2 {color: black;}#sk-container-id-2 pre{padding: 0;}#sk-container-id-2 div.sk-toggleable {background-color: white;}#sk-container-id-2 label.sk-toggleable__label {cursor: pointer;display: block;width: 100%;margin-bottom: 0;padding: 0.3em;box-sizing: border-box;text-align: center;}#sk-container-id-2 label.sk-toggleable__label-arrow:before {content: \"▸\";float: left;margin-right: 0.25em;color: #696969;}#sk-container-id-2 label.sk-toggleable__label-arrow:hover:before {color: black;}#sk-container-id-2 div.sk-estimator:hover label.sk-toggleable__label-arrow:before {color: black;}#sk-container-id-2 div.sk-toggleable__content {max-height: 0;max-width: 0;overflow: hidden;text-align: left;background-color: #f0f8ff;}#sk-container-id-2 div.sk-toggleable__content pre {margin: 0.2em;color: black;border-radius: 0.25em;background-color: #f0f8ff;}#sk-container-id-2 input.sk-toggleable__control:checked~div.sk-toggleable__content {max-height: 200px;max-width: 100%;overflow: auto;}#sk-container-id-2 input.sk-toggleable__control:checked~label.sk-toggleable__label-arrow:before {content: \"▾\";}#sk-container-id-2 div.sk-estimator input.sk-toggleable__control:checked~label.sk-toggleable__label {background-color: #d4ebff;}#sk-container-id-2 div.sk-label input.sk-toggleable__control:checked~label.sk-toggleable__label {background-color: #d4ebff;}#sk-container-id-2 input.sk-hidden--visually {border: 0;clip: rect(1px 1px 1px 1px);clip: rect(1px, 1px, 1px, 1px);height: 1px;margin: -1px;overflow: hidden;padding: 0;position: absolute;width: 1px;}#sk-container-id-2 div.sk-estimator {font-family: monospace;background-color: #f0f8ff;border: 1px dotted black;border-radius: 0.25em;box-sizing: border-box;margin-bottom: 0.5em;}#sk-container-id-2 div.sk-estimator:hover {background-color: #d4ebff;}#sk-container-id-2 div.sk-parallel-item::after {content: \"\";width: 100%;border-bottom: 1px solid gray;flex-grow: 1;}#sk-container-id-2 div.sk-label:hover label.sk-toggleable__label {background-color: #d4ebff;}#sk-container-id-2 div.sk-serial::before {content: \"\";position: absolute;border-left: 1px solid gray;box-sizing: border-box;top: 0;bottom: 0;left: 50%;z-index: 0;}#sk-container-id-2 div.sk-serial {display: flex;flex-direction: column;align-items: center;background-color: white;padding-right: 0.2em;padding-left: 0.2em;position: relative;}#sk-container-id-2 div.sk-item {position: relative;z-index: 1;}#sk-container-id-2 div.sk-parallel {display: flex;align-items: stretch;justify-content: center;background-color: white;position: relative;}#sk-container-id-2 div.sk-item::before, #sk-container-id-2 div.sk-parallel-item::before {content: \"\";position: absolute;border-left: 1px solid gray;box-sizing: border-box;top: 0;bottom: 0;left: 50%;z-index: -1;}#sk-container-id-2 div.sk-parallel-item {display: flex;flex-direction: column;z-index: 1;position: relative;background-color: white;}#sk-container-id-2 div.sk-parallel-item:first-child::after {align-self: flex-end;width: 50%;}#sk-container-id-2 div.sk-parallel-item:last-child::after {align-self: flex-start;width: 50%;}#sk-container-id-2 div.sk-parallel-item:only-child::after {width: 0;}#sk-container-id-2 div.sk-dashed-wrapped {border: 1px dashed gray;margin: 0 0.4em 0.5em 0.4em;box-sizing: border-box;padding-bottom: 0.4em;background-color: white;}#sk-container-id-2 div.sk-label label {font-family: monospace;font-weight: bold;display: inline-block;line-height: 1.2em;}#sk-container-id-2 div.sk-label-container {text-align: center;}#sk-container-id-2 div.sk-container {/* jupyter's `normalize.less` sets `[hidden] { display: none; }` but bootstrap.min.css set `[hidden] { display: none !important; }` so we also need the `!important` here to be able to override the default hidden behavior on the sphinx rendered scikit-learn.org. See: https://github.com/scikit-learn/scikit-learn/issues/21755 */display: inline-block !important;position: relative;}#sk-container-id-2 div.sk-text-repr-fallback {display: none;}</style><div id=\"sk-container-id-2\" class=\"sk-top-container\"><div class=\"sk-text-repr-fallback\"><pre>LogisticRegression()</pre><b>In a Jupyter environment, please rerun this cell to show the HTML representation or trust the notebook. <br />On GitHub, the HTML representation is unable to render, please try loading this page with nbviewer.org.</b></div><div class=\"sk-container\" hidden><div class=\"sk-item\"><div class=\"sk-estimator sk-toggleable\"><input class=\"sk-toggleable__control sk-hidden--visually\" id=\"sk-estimator-id-2\" type=\"checkbox\" checked><label for=\"sk-estimator-id-2\" class=\"sk-toggleable__label sk-toggleable__label-arrow\">LogisticRegression</label><div class=\"sk-toggleable__content\"><pre>LogisticRegression()</pre></div></div></div></div></div>"
      ],
      "text/plain": [
       "LogisticRegression()"
      ]
     },
     "execution_count": 56,
     "metadata": {},
     "output_type": "execute_result"
    }
   ],
   "source": [
    "model"
   ]
  }
 ],
 "metadata": {
  "kernelspec": {
   "display_name": "Python 3 (ipykernel)",
   "language": "python",
   "name": "python3"
  },
  "language_info": {
   "codemirror_mode": {
    "name": "ipython",
    "version": 3
   },
   "file_extension": ".py",
   "mimetype": "text/x-python",
   "name": "python",
   "nbconvert_exporter": "python",
   "pygments_lexer": "ipython3",
   "version": "3.10.10"
  }
 },
 "nbformat": 4,
 "nbformat_minor": 5
}
